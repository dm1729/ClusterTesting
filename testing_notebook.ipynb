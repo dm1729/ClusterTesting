{
 "cells": [
  {
   "cell_type": "code",
   "execution_count": 9,
   "metadata": {
    "collapsed": true
   },
   "outputs": [
    {
     "name": "stdout",
     "output_type": "stream",
     "text": [
      "Epoch 1/10\n",
      "32/32 [==============================] - 1s 18ms/step - loss: 1926.1465 - val_loss: 1333.0720\n",
      "Epoch 2/10\n",
      "32/32 [==============================] - 0s 11ms/step - loss: 778.4518 - val_loss: 280.0193\n",
      "Epoch 3/10\n",
      "32/32 [==============================] - 0s 8ms/step - loss: 88.1201 - val_loss: 1.6540\n",
      "Epoch 4/10\n",
      "32/32 [==============================] - 0s 13ms/step - loss: 0.7193 - val_loss: 0.5141\n",
      "Epoch 5/10\n",
      "32/32 [==============================] - 0s 12ms/step - loss: 0.2344 - val_loss: 0.1953\n",
      "Epoch 6/10\n",
      "32/32 [==============================] - 0s 9ms/step - loss: 0.1643 - val_loss: 0.1779\n",
      "Epoch 7/10\n",
      "32/32 [==============================] - 0s 7ms/step - loss: 0.1580 - val_loss: 0.1760\n",
      "Epoch 8/10\n",
      "32/32 [==============================] - 0s 10ms/step - loss: 0.1560 - val_loss: 0.1738\n",
      "Epoch 9/10\n",
      "32/32 [==============================] - 0s 6ms/step - loss: 0.1541 - val_loss: 0.1713\n",
      "Epoch 10/10\n",
      "32/32 [==============================] - 0s 6ms/step - loss: 0.1516 - val_loss: 0.1696\n",
      "Num GPUs Available:  0\n"
     ]
    }
   ],
   "source": [
    "import tensorflow as tf\n",
    "import numpy as np\n",
    "\n",
    "# Dummy data\n",
    "X_train = np.random.rand(1000, 100)\n",
    "y_train = sum(np.transpose(X_train))\n",
    "\n",
    "X_val = np.random.rand(500, 100)\n",
    "y_val = sum(np.transpose(X_val))\n",
    "\n",
    "# Define the model architecture\n",
    "model = tf.keras.Sequential([\n",
    "    tf.keras.layers.Dense(100, input_shape=(X_train.shape[1],), activation='relu'),\n",
    "    tf.keras.layers.Dense(1)\n",
    "])\n",
    "\n",
    "# Compile the model\n",
    "model.compile(optimizer='adam', loss='mean_squared_error')\n",
    "\n",
    "# Train the model\n",
    "model.fit(X_train, y_train, epochs=10, batch_size=32, validation_data=(X_val, y_val))\n",
    "\n",
    "print(\"Num GPUs Available: \", len(tf.config.experimental.list_physical_devices('GPU')))\n",
    "# print statements should go to output file listed in bash script"
   ]
  },
  {
   "cell_type": "code",
   "execution_count": 12,
   "outputs": [
    {
     "name": "stdout",
     "output_type": "stream",
     "text": [
      "INFO:tensorflow:Assets written to: params/assets\n"
     ]
    }
   ],
   "source": [
    "model.save(filepath='params')"
   ],
   "metadata": {
    "collapsed": false
   }
  },
  {
   "cell_type": "code",
   "execution_count": 16,
   "outputs": [],
   "source": [
    "data_dir = './Data'"
   ],
   "metadata": {
    "collapsed": false
   }
  },
  {
   "cell_type": "code",
   "execution_count": 17,
   "outputs": [
    {
     "name": "stdout",
     "output_type": "stream",
     "text": [
      "INFO:tensorflow:Assets written to: ./Data/params/assets\n"
     ]
    }
   ],
   "source": [
    "model.save(filepath=f'{data_dir}/params')"
   ],
   "metadata": {
    "collapsed": false
   }
  },
  {
   "cell_type": "code",
   "execution_count": null,
   "outputs": [],
   "source": [],
   "metadata": {
    "collapsed": false
   }
  }
 ],
 "metadata": {
  "kernelspec": {
   "display_name": "Python 3",
   "language": "python",
   "name": "python3"
  },
  "language_info": {
   "codemirror_mode": {
    "name": "ipython",
    "version": 2
   },
   "file_extension": ".py",
   "mimetype": "text/x-python",
   "name": "python",
   "nbconvert_exporter": "python",
   "pygments_lexer": "ipython2",
   "version": "2.7.6"
  }
 },
 "nbformat": 4,
 "nbformat_minor": 0
}
